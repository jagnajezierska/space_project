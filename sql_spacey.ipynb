{
 "cells": [
  {
   "cell_type": "code",
   "id": "initial_id",
   "metadata": {
    "collapsed": true,
    "ExecuteTime": {
     "end_time": "2024-11-24T09:43:59.230051Z",
     "start_time": "2024-11-24T09:43:47.984225Z"
    }
   },
   "source": "!pip install sqlalchemy==1.3.9",
   "outputs": [
    {
     "name": "stdout",
     "output_type": "stream",
     "text": [
      "Collecting sqlalchemy==1.3.9\r\n",
      "  Downloading SQLAlchemy-1.3.9.tar.gz (6.0 MB)\r\n",
      "\u001B[2K     \u001B[90m━━━━━━━━━━━━━━━━━━━━━━━━━━━━━━━━━━━━━━━━\u001B[0m \u001B[32m6.0/6.0 MB\u001B[0m \u001B[31m3.2 MB/s\u001B[0m eta \u001B[36m0:00:00\u001B[0ma \u001B[36m0:00:01\u001B[0m\r\n",
      "\u001B[?25h  Preparing metadata (setup.py) ... \u001B[?25ldone\r\n",
      "\u001B[?25hBuilding wheels for collected packages: sqlalchemy\r\n",
      "  Building wheel for sqlalchemy (setup.py) ... \u001B[?25ldone\r\n",
      "\u001B[?25h  Created wheel for sqlalchemy: filename=SQLAlchemy-1.3.9-cp312-cp312-macosx_11_0_arm64.whl size=1155202 sha256=3f7931569b7959553672ee987e9a0c869684aab958d85feb079c699cc3aa5b81\r\n",
      "  Stored in directory: /Users/jagnajezierska/Library/Caches/pip/wheels/b3/1c/42/0e26b8d512adc6bce10ff71a05229366b4ccec641cd3b42111\r\n",
      "Successfully built sqlalchemy\r\n",
      "Installing collected packages: sqlalchemy\r\n",
      "Successfully installed sqlalchemy-1.3.9\r\n"
     ]
    }
   ],
   "execution_count": 1
  },
  {
   "metadata": {
    "ExecuteTime": {
     "end_time": "2024-11-24T09:44:19.619026Z",
     "start_time": "2024-11-24T09:44:12.627248Z"
    }
   },
   "cell_type": "code",
   "source": [
    "!pip install ipython-sql\n",
    "!pip install ipython-sql prettytable"
   ],
   "id": "41ab12963ebdb256",
   "outputs": [
    {
     "name": "stdout",
     "output_type": "stream",
     "text": [
      "Collecting ipython-sql\r\n",
      "  Downloading ipython_sql-0.5.0-py3-none-any.whl.metadata (17 kB)\r\n",
      "Collecting prettytable (from ipython-sql)\r\n",
      "  Downloading prettytable-3.12.0-py3-none-any.whl.metadata (30 kB)\r\n",
      "Requirement already satisfied: ipython in /opt/miniconda3/lib/python3.12/site-packages (from ipython-sql) (8.27.0)\r\n",
      "Collecting sqlalchemy>=2.0 (from ipython-sql)\r\n",
      "  Downloading SQLAlchemy-2.0.36-cp312-cp312-macosx_11_0_arm64.whl.metadata (9.7 kB)\r\n",
      "Collecting sqlparse (from ipython-sql)\r\n",
      "  Downloading sqlparse-0.5.2-py3-none-any.whl.metadata (3.9 kB)\r\n",
      "Requirement already satisfied: six in /opt/miniconda3/lib/python3.12/site-packages (from ipython-sql) (1.16.0)\r\n",
      "Collecting ipython-genutils (from ipython-sql)\r\n",
      "  Downloading ipython_genutils-0.2.0-py2.py3-none-any.whl.metadata (755 bytes)\r\n",
      "Requirement already satisfied: typing-extensions>=4.6.0 in /opt/miniconda3/lib/python3.12/site-packages (from sqlalchemy>=2.0->ipython-sql) (4.11.0)\r\n",
      "Requirement already satisfied: decorator in /opt/miniconda3/lib/python3.12/site-packages (from ipython->ipython-sql) (5.1.1)\r\n",
      "Requirement already satisfied: jedi>=0.16 in /opt/miniconda3/lib/python3.12/site-packages (from ipython->ipython-sql) (0.19.1)\r\n",
      "Requirement already satisfied: matplotlib-inline in /opt/miniconda3/lib/python3.12/site-packages (from ipython->ipython-sql) (0.1.6)\r\n",
      "Requirement already satisfied: prompt-toolkit<3.1.0,>=3.0.41 in /opt/miniconda3/lib/python3.12/site-packages (from ipython->ipython-sql) (3.0.43)\r\n",
      "Requirement already satisfied: pygments>=2.4.0 in /opt/miniconda3/lib/python3.12/site-packages (from ipython->ipython-sql) (2.15.1)\r\n",
      "Requirement already satisfied: stack-data in /opt/miniconda3/lib/python3.12/site-packages (from ipython->ipython-sql) (0.2.0)\r\n",
      "Requirement already satisfied: traitlets>=5.13.0 in /opt/miniconda3/lib/python3.12/site-packages (from ipython->ipython-sql) (5.14.3)\r\n",
      "Requirement already satisfied: pexpect>4.3 in /opt/miniconda3/lib/python3.12/site-packages (from ipython->ipython-sql) (4.8.0)\r\n",
      "Requirement already satisfied: wcwidth in /opt/miniconda3/lib/python3.12/site-packages (from prettytable->ipython-sql) (0.2.5)\r\n",
      "Requirement already satisfied: parso<0.9.0,>=0.8.3 in /opt/miniconda3/lib/python3.12/site-packages (from jedi>=0.16->ipython->ipython-sql) (0.8.3)\r\n",
      "Requirement already satisfied: ptyprocess>=0.5 in /opt/miniconda3/lib/python3.12/site-packages (from pexpect>4.3->ipython->ipython-sql) (0.7.0)\r\n",
      "Requirement already satisfied: executing in /opt/miniconda3/lib/python3.12/site-packages (from stack-data->ipython->ipython-sql) (0.8.3)\r\n",
      "Requirement already satisfied: asttokens in /opt/miniconda3/lib/python3.12/site-packages (from stack-data->ipython->ipython-sql) (2.0.5)\r\n",
      "Requirement already satisfied: pure-eval in /opt/miniconda3/lib/python3.12/site-packages (from stack-data->ipython->ipython-sql) (0.2.2)\r\n",
      "Downloading ipython_sql-0.5.0-py3-none-any.whl (20 kB)\r\n",
      "Downloading SQLAlchemy-2.0.36-cp312-cp312-macosx_11_0_arm64.whl (2.1 MB)\r\n",
      "\u001B[2K   \u001B[90m━━━━━━━━━━━━━━━━━━━━━━━━━━━━━━━━━━━━━━━━\u001B[0m \u001B[32m2.1/2.1 MB\u001B[0m \u001B[31m4.1 MB/s\u001B[0m eta \u001B[36m0:00:00\u001B[0ma \u001B[36m0:00:01\u001B[0m\r\n",
      "\u001B[?25hDownloading ipython_genutils-0.2.0-py2.py3-none-any.whl (26 kB)\r\n",
      "Downloading prettytable-3.12.0-py3-none-any.whl (31 kB)\r\n",
      "Downloading sqlparse-0.5.2-py3-none-any.whl (44 kB)\r\n",
      "Installing collected packages: ipython-genutils, sqlparse, sqlalchemy, prettytable, ipython-sql\r\n",
      "  Attempting uninstall: sqlalchemy\r\n",
      "    Found existing installation: SQLAlchemy 1.3.9\r\n",
      "    Uninstalling SQLAlchemy-1.3.9:\r\n",
      "      Successfully uninstalled SQLAlchemy-1.3.9\r\n",
      "Successfully installed ipython-genutils-0.2.0 ipython-sql-0.5.0 prettytable-3.12.0 sqlalchemy-2.0.36 sqlparse-0.5.2\r\n",
      "Requirement already satisfied: ipython-sql in /opt/miniconda3/lib/python3.12/site-packages (0.5.0)\r\n",
      "Requirement already satisfied: prettytable in /opt/miniconda3/lib/python3.12/site-packages (3.12.0)\r\n",
      "Requirement already satisfied: ipython in /opt/miniconda3/lib/python3.12/site-packages (from ipython-sql) (8.27.0)\r\n",
      "Requirement already satisfied: sqlalchemy>=2.0 in /opt/miniconda3/lib/python3.12/site-packages (from ipython-sql) (2.0.36)\r\n",
      "Requirement already satisfied: sqlparse in /opt/miniconda3/lib/python3.12/site-packages (from ipython-sql) (0.5.2)\r\n",
      "Requirement already satisfied: six in /opt/miniconda3/lib/python3.12/site-packages (from ipython-sql) (1.16.0)\r\n",
      "Requirement already satisfied: ipython-genutils in /opt/miniconda3/lib/python3.12/site-packages (from ipython-sql) (0.2.0)\r\n",
      "Requirement already satisfied: wcwidth in /opt/miniconda3/lib/python3.12/site-packages (from prettytable) (0.2.5)\r\n",
      "Requirement already satisfied: typing-extensions>=4.6.0 in /opt/miniconda3/lib/python3.12/site-packages (from sqlalchemy>=2.0->ipython-sql) (4.11.0)\r\n",
      "Requirement already satisfied: decorator in /opt/miniconda3/lib/python3.12/site-packages (from ipython->ipython-sql) (5.1.1)\r\n",
      "Requirement already satisfied: jedi>=0.16 in /opt/miniconda3/lib/python3.12/site-packages (from ipython->ipython-sql) (0.19.1)\r\n",
      "Requirement already satisfied: matplotlib-inline in /opt/miniconda3/lib/python3.12/site-packages (from ipython->ipython-sql) (0.1.6)\r\n",
      "Requirement already satisfied: prompt-toolkit<3.1.0,>=3.0.41 in /opt/miniconda3/lib/python3.12/site-packages (from ipython->ipython-sql) (3.0.43)\r\n",
      "Requirement already satisfied: pygments>=2.4.0 in /opt/miniconda3/lib/python3.12/site-packages (from ipython->ipython-sql) (2.15.1)\r\n",
      "Requirement already satisfied: stack-data in /opt/miniconda3/lib/python3.12/site-packages (from ipython->ipython-sql) (0.2.0)\r\n",
      "Requirement already satisfied: traitlets>=5.13.0 in /opt/miniconda3/lib/python3.12/site-packages (from ipython->ipython-sql) (5.14.3)\r\n",
      "Requirement already satisfied: pexpect>4.3 in /opt/miniconda3/lib/python3.12/site-packages (from ipython->ipython-sql) (4.8.0)\r\n",
      "Requirement already satisfied: parso<0.9.0,>=0.8.3 in /opt/miniconda3/lib/python3.12/site-packages (from jedi>=0.16->ipython->ipython-sql) (0.8.3)\r\n",
      "Requirement already satisfied: ptyprocess>=0.5 in /opt/miniconda3/lib/python3.12/site-packages (from pexpect>4.3->ipython->ipython-sql) (0.7.0)\r\n",
      "Requirement already satisfied: executing in /opt/miniconda3/lib/python3.12/site-packages (from stack-data->ipython->ipython-sql) (0.8.3)\r\n",
      "Requirement already satisfied: asttokens in /opt/miniconda3/lib/python3.12/site-packages (from stack-data->ipython->ipython-sql) (2.0.5)\r\n",
      "Requirement already satisfied: pure-eval in /opt/miniconda3/lib/python3.12/site-packages (from stack-data->ipython->ipython-sql) (0.2.2)\r\n"
     ]
    }
   ],
   "execution_count": 2
  },
  {
   "metadata": {
    "ExecuteTime": {
     "end_time": "2024-11-24T09:44:36.095043Z",
     "start_time": "2024-11-24T09:44:32.802460Z"
    }
   },
   "cell_type": "code",
   "source": "%load_ext sql",
   "id": "df11fdd374ae3987",
   "outputs": [],
   "execution_count": 3
  },
  {
   "metadata": {
    "ExecuteTime": {
     "end_time": "2024-11-24T09:44:43.298344Z",
     "start_time": "2024-11-24T09:44:43.290138Z"
    }
   },
   "cell_type": "code",
   "source": [
    "import csv, sqlite3\n",
    "import prettytable\n",
    "prettytable.DEFAULT = 'DEFAULT'\n",
    "\n",
    "con = sqlite3.connect(\"my_data1.db\")\n",
    "cur = con.cursor()"
   ],
   "id": "efb22b76c2e08845",
   "outputs": [],
   "execution_count": 4
  },
  {
   "metadata": {
    "ExecuteTime": {
     "end_time": "2024-11-24T09:44:51.887925Z",
     "start_time": "2024-11-24T09:44:50.659161Z"
    }
   },
   "cell_type": "code",
   "source": "!pip install -q pandas",
   "id": "c777175686fab462",
   "outputs": [],
   "execution_count": 5
  },
  {
   "metadata": {
    "ExecuteTime": {
     "end_time": "2024-11-24T09:45:04.276562Z",
     "start_time": "2024-11-24T09:45:04.241543Z"
    }
   },
   "cell_type": "code",
   "source": "%sql sqlite:///my_data1.db",
   "id": "a711b98bea934323",
   "outputs": [],
   "execution_count": 6
  },
  {
   "metadata": {
    "ExecuteTime": {
     "end_time": "2024-11-24T09:45:18.414456Z",
     "start_time": "2024-11-24T09:45:17.655264Z"
    }
   },
   "cell_type": "code",
   "source": [
    "import pandas as pd\n",
    "df = pd.read_csv(\"https://cf-courses-data.s3.us.cloud-object-storage.appdomain.cloud/IBM-DS0321EN-SkillsNetwork/labs/module_2/data/Spacex.csv\")\n",
    "df.to_sql(\"SPACEXTBL\", con, if_exists='replace', index=False,method=\"multi\")"
   ],
   "id": "471e0e4d9ee87137",
   "outputs": [
    {
     "data": {
      "text/plain": [
       "101"
      ]
     },
     "execution_count": 7,
     "metadata": {},
     "output_type": "execute_result"
    }
   ],
   "execution_count": 7
  },
  {
   "metadata": {
    "ExecuteTime": {
     "end_time": "2024-11-24T09:45:29.727610Z",
     "start_time": "2024-11-24T09:45:29.685496Z"
    }
   },
   "cell_type": "code",
   "source": "%sql DROP TABLE IF EXISTS SPACEXTABLE;",
   "id": "33f92c8681249d90",
   "outputs": [
    {
     "name": "stdout",
     "output_type": "stream",
     "text": [
      " * sqlite:///my_data1.db\n",
      "Done.\n"
     ]
    },
    {
     "data": {
      "text/plain": [
       "[]"
      ]
     },
     "execution_count": 8,
     "metadata": {},
     "output_type": "execute_result"
    }
   ],
   "execution_count": 8
  },
  {
   "metadata": {
    "ExecuteTime": {
     "end_time": "2024-11-24T09:45:39.506625Z",
     "start_time": "2024-11-24T09:45:39.479842Z"
    }
   },
   "cell_type": "code",
   "source": "%sql create table SPACEXTABLE as select * from SPACEXTBL where Date is not null",
   "id": "4a9ac8cf90690d0e",
   "outputs": [
    {
     "name": "stdout",
     "output_type": "stream",
     "text": [
      " * sqlite:///my_data1.db\n",
      "Done.\n"
     ]
    },
    {
     "data": {
      "text/plain": [
       "[]"
      ]
     },
     "execution_count": 9,
     "metadata": {},
     "output_type": "execute_result"
    }
   ],
   "execution_count": 9
  },
  {
   "metadata": {
    "ExecuteTime": {
     "end_time": "2024-11-24T09:48:32.428656Z",
     "start_time": "2024-11-24T09:48:32.401567Z"
    }
   },
   "cell_type": "code",
   "source": "%sql SELECT DISTINCT \"Launch_Site\" FROM SPACEXTABLE;",
   "id": "987ea1388f60563a",
   "outputs": [
    {
     "name": "stdout",
     "output_type": "stream",
     "text": [
      " * sqlite:///my_data1.db\n",
      "Done.\n"
     ]
    },
    {
     "data": {
      "text/plain": [
       "[('CCAFS LC-40',), ('VAFB SLC-4E',), ('KSC LC-39A',), ('CCAFS SLC-40',)]"
      ],
      "text/html": [
       "<table>\n",
       "    <thead>\n",
       "        <tr>\n",
       "            <th>Launch_Site</th>\n",
       "        </tr>\n",
       "    </thead>\n",
       "    <tbody>\n",
       "        <tr>\n",
       "            <td>CCAFS LC-40</td>\n",
       "        </tr>\n",
       "        <tr>\n",
       "            <td>VAFB SLC-4E</td>\n",
       "        </tr>\n",
       "        <tr>\n",
       "            <td>KSC LC-39A</td>\n",
       "        </tr>\n",
       "        <tr>\n",
       "            <td>CCAFS SLC-40</td>\n",
       "        </tr>\n",
       "    </tbody>\n",
       "</table>"
      ]
     },
     "execution_count": 10,
     "metadata": {},
     "output_type": "execute_result"
    }
   ],
   "execution_count": 10
  },
  {
   "metadata": {
    "ExecuteTime": {
     "end_time": "2024-11-24T09:51:00.622235Z",
     "start_time": "2024-11-24T09:51:00.604720Z"
    }
   },
   "cell_type": "code",
   "source": "%sql SELECT \"Launch_Site\" FROM SPACEXTABLE WHERE \"Launch_Site\" LIKE \"CCA%\" LIMIT 5;",
   "id": "817f13b04dedfafb",
   "outputs": [
    {
     "name": "stdout",
     "output_type": "stream",
     "text": [
      " * sqlite:///my_data1.db\n",
      "Done.\n"
     ]
    },
    {
     "data": {
      "text/plain": [
       "[('CCAFS LC-40',),\n",
       " ('CCAFS LC-40',),\n",
       " ('CCAFS LC-40',),\n",
       " ('CCAFS LC-40',),\n",
       " ('CCAFS LC-40',)]"
      ],
      "text/html": [
       "<table>\n",
       "    <thead>\n",
       "        <tr>\n",
       "            <th>Launch_Site</th>\n",
       "        </tr>\n",
       "    </thead>\n",
       "    <tbody>\n",
       "        <tr>\n",
       "            <td>CCAFS LC-40</td>\n",
       "        </tr>\n",
       "        <tr>\n",
       "            <td>CCAFS LC-40</td>\n",
       "        </tr>\n",
       "        <tr>\n",
       "            <td>CCAFS LC-40</td>\n",
       "        </tr>\n",
       "        <tr>\n",
       "            <td>CCAFS LC-40</td>\n",
       "        </tr>\n",
       "        <tr>\n",
       "            <td>CCAFS LC-40</td>\n",
       "        </tr>\n",
       "    </tbody>\n",
       "</table>"
      ]
     },
     "execution_count": 12,
     "metadata": {},
     "output_type": "execute_result"
    }
   ],
   "execution_count": 12
  },
  {
   "metadata": {
    "ExecuteTime": {
     "end_time": "2024-11-24T10:00:30.796207Z",
     "start_time": "2024-11-24T10:00:30.774Z"
    }
   },
   "cell_type": "code",
   "source": "%sql SELECT SUM(\"PAYLOAD_MASS__KG_\") AS total_payload_mass FROM SPACEXTABLE WHERE \"Customer\" = 'NASA (CRS)';",
   "id": "ff6ec2e9b7a6cd42",
   "outputs": [
    {
     "name": "stdout",
     "output_type": "stream",
     "text": [
      " * sqlite:///my_data1.db\n",
      "Done.\n"
     ]
    },
    {
     "data": {
      "text/plain": [
       "[(45596,)]"
      ],
      "text/html": [
       "<table>\n",
       "    <thead>\n",
       "        <tr>\n",
       "            <th>total_payload_mass</th>\n",
       "        </tr>\n",
       "    </thead>\n",
       "    <tbody>\n",
       "        <tr>\n",
       "            <td>45596</td>\n",
       "        </tr>\n",
       "    </tbody>\n",
       "</table>"
      ]
     },
     "execution_count": 21,
     "metadata": {},
     "output_type": "execute_result"
    }
   ],
   "execution_count": 21
  },
  {
   "metadata": {
    "ExecuteTime": {
     "end_time": "2024-11-24T10:02:38.534104Z",
     "start_time": "2024-11-24T10:02:38.502420Z"
    }
   },
   "cell_type": "code",
   "source": "%sql SELECT AVG(\"PAYLOAD_MASS__KG_\") AS average_payload_mass FROM SPACEXTABLE WHERE \"Booster_Version\" = \"F9 v1.1\";",
   "id": "760c42098487abf6",
   "outputs": [
    {
     "name": "stdout",
     "output_type": "stream",
     "text": [
      " * sqlite:///my_data1.db\n",
      "Done.\n"
     ]
    },
    {
     "data": {
      "text/plain": [
       "[(2928.4,)]"
      ],
      "text/html": [
       "<table>\n",
       "    <thead>\n",
       "        <tr>\n",
       "            <th>average_payload_mass</th>\n",
       "        </tr>\n",
       "    </thead>\n",
       "    <tbody>\n",
       "        <tr>\n",
       "            <td>2928.4</td>\n",
       "        </tr>\n",
       "    </tbody>\n",
       "</table>"
      ]
     },
     "execution_count": 22,
     "metadata": {},
     "output_type": "execute_result"
    }
   ],
   "execution_count": 22
  },
  {
   "metadata": {
    "ExecuteTime": {
     "end_time": "2024-11-24T10:06:53.123622Z",
     "start_time": "2024-11-24T10:06:53.094389Z"
    }
   },
   "cell_type": "code",
   "source": "%sql SELECT MIN(\"Date\") AS first_successful_landing FROM SPACEXTABLE WHERE \"Landing_Outcome\" = \"Success (ground pad)\";",
   "id": "1472385c4b96d14b",
   "outputs": [
    {
     "name": "stdout",
     "output_type": "stream",
     "text": [
      " * sqlite:///my_data1.db\n",
      "Done.\n"
     ]
    },
    {
     "data": {
      "text/plain": [
       "[('2015-12-22',)]"
      ],
      "text/html": [
       "<table>\n",
       "    <thead>\n",
       "        <tr>\n",
       "            <th>first_successful_landing</th>\n",
       "        </tr>\n",
       "    </thead>\n",
       "    <tbody>\n",
       "        <tr>\n",
       "            <td>2015-12-22</td>\n",
       "        </tr>\n",
       "    </tbody>\n",
       "</table>"
      ]
     },
     "execution_count": 23,
     "metadata": {},
     "output_type": "execute_result"
    }
   ],
   "execution_count": 23
  },
  {
   "metadata": {
    "ExecuteTime": {
     "end_time": "2024-11-24T10:22:12.184899Z",
     "start_time": "2024-11-24T10:22:12.152857Z"
    }
   },
   "cell_type": "code",
   "source": "%sql SELECT \"Booster_Version\" FROM SPACEXTABLE WHERE \"Mission_Outcome\" LIKE 'Success' AND \"PAYLOAD_MASS__KG_\" > 4000 AND \"PAYLOAD_MASS__KG_\" < 6000; ",
   "id": "b71211e852f1051c",
   "outputs": [
    {
     "name": "stdout",
     "output_type": "stream",
     "text": [
      " * sqlite:///my_data1.db\n",
      "Done.\n"
     ]
    },
    {
     "data": {
      "text/plain": [
       "[('F9 v1.1',),\n",
       " ('F9 v1.1 B1011',),\n",
       " ('F9 v1.1 B1014',),\n",
       " ('F9 v1.1 B1016',),\n",
       " ('F9 FT B1020',),\n",
       " ('F9 FT B1022',),\n",
       " ('F9 FT B1026',),\n",
       " ('F9 FT B1030',),\n",
       " ('F9 FT  B1021.2',),\n",
       " ('F9 FT B1032.1',),\n",
       " ('F9 B4 B1040.1',),\n",
       " ('F9 FT  B1031.2',),\n",
       " ('F9 FT  B1032.2',),\n",
       " ('F9 B4  B1040.2',),\n",
       " ('F9 B5 B1046.2',),\n",
       " ('F9 B5 B1047.2',),\n",
       " ('F9 B5 B1048.3',),\n",
       " ('F9 B5 B1051.2 ',),\n",
       " ('F9 B5B1060.1',),\n",
       " ('F9 B5 B1058.2 ',),\n",
       " ('F9 B5B1062.1',)]"
      ],
      "text/html": [
       "<table>\n",
       "    <thead>\n",
       "        <tr>\n",
       "            <th>Booster_Version</th>\n",
       "        </tr>\n",
       "    </thead>\n",
       "    <tbody>\n",
       "        <tr>\n",
       "            <td>F9 v1.1</td>\n",
       "        </tr>\n",
       "        <tr>\n",
       "            <td>F9 v1.1 B1011</td>\n",
       "        </tr>\n",
       "        <tr>\n",
       "            <td>F9 v1.1 B1014</td>\n",
       "        </tr>\n",
       "        <tr>\n",
       "            <td>F9 v1.1 B1016</td>\n",
       "        </tr>\n",
       "        <tr>\n",
       "            <td>F9 FT B1020</td>\n",
       "        </tr>\n",
       "        <tr>\n",
       "            <td>F9 FT B1022</td>\n",
       "        </tr>\n",
       "        <tr>\n",
       "            <td>F9 FT B1026</td>\n",
       "        </tr>\n",
       "        <tr>\n",
       "            <td>F9 FT B1030</td>\n",
       "        </tr>\n",
       "        <tr>\n",
       "            <td>F9 FT  B1021.2</td>\n",
       "        </tr>\n",
       "        <tr>\n",
       "            <td>F9 FT B1032.1</td>\n",
       "        </tr>\n",
       "        <tr>\n",
       "            <td>F9 B4 B1040.1</td>\n",
       "        </tr>\n",
       "        <tr>\n",
       "            <td>F9 FT  B1031.2</td>\n",
       "        </tr>\n",
       "        <tr>\n",
       "            <td>F9 FT  B1032.2</td>\n",
       "        </tr>\n",
       "        <tr>\n",
       "            <td>F9 B4  B1040.2</td>\n",
       "        </tr>\n",
       "        <tr>\n",
       "            <td>F9 B5 B1046.2</td>\n",
       "        </tr>\n",
       "        <tr>\n",
       "            <td>F9 B5 B1047.2</td>\n",
       "        </tr>\n",
       "        <tr>\n",
       "            <td>F9 B5 B1048.3</td>\n",
       "        </tr>\n",
       "        <tr>\n",
       "            <td>F9 B5 B1051.2 </td>\n",
       "        </tr>\n",
       "        <tr>\n",
       "            <td>F9 B5B1060.1</td>\n",
       "        </tr>\n",
       "        <tr>\n",
       "            <td>F9 B5 B1058.2 </td>\n",
       "        </tr>\n",
       "        <tr>\n",
       "            <td>F9 B5B1062.1</td>\n",
       "        </tr>\n",
       "    </tbody>\n",
       "</table>"
      ]
     },
     "execution_count": 48,
     "metadata": {},
     "output_type": "execute_result"
    }
   ],
   "execution_count": 48
  },
  {
   "metadata": {
    "ExecuteTime": {
     "end_time": "2024-11-24T10:22:46.925708Z",
     "start_time": "2024-11-24T10:22:46.899775Z"
    }
   },
   "cell_type": "code",
   "source": "%sql SELECT COUNT(\"Mission_Outcome\") AS successful_outcomes FROM SPACEXTABLE WHERE \"Mission_Outcome\" LIKE 'Success%';",
   "id": "8bdb4ff3958d1b2e",
   "outputs": [
    {
     "name": "stdout",
     "output_type": "stream",
     "text": [
      " * sqlite:///my_data1.db\n",
      "Done.\n"
     ]
    },
    {
     "data": {
      "text/plain": [
       "[(100,)]"
      ],
      "text/html": [
       "<table>\n",
       "    <thead>\n",
       "        <tr>\n",
       "            <th>successful_outcomes</th>\n",
       "        </tr>\n",
       "    </thead>\n",
       "    <tbody>\n",
       "        <tr>\n",
       "            <td>100</td>\n",
       "        </tr>\n",
       "    </tbody>\n",
       "</table>"
      ]
     },
     "execution_count": 49,
     "metadata": {},
     "output_type": "execute_result"
    }
   ],
   "execution_count": 49
  },
  {
   "metadata": {
    "ExecuteTime": {
     "end_time": "2024-11-24T10:23:03.529355Z",
     "start_time": "2024-11-24T10:23:03.511798Z"
    }
   },
   "cell_type": "code",
   "source": "%sql SELECT COUNT(\"Mission_Outcome\") AS failure_outcomes FROM SPACEXTABLE WHERE \"Mission_Outcome\" NOT LIKE 'Success%';",
   "id": "b171d249d845985f",
   "outputs": [
    {
     "name": "stdout",
     "output_type": "stream",
     "text": [
      " * sqlite:///my_data1.db\n",
      "Done.\n"
     ]
    },
    {
     "data": {
      "text/plain": [
       "[(1,)]"
      ],
      "text/html": [
       "<table>\n",
       "    <thead>\n",
       "        <tr>\n",
       "            <th>failure_outcomes</th>\n",
       "        </tr>\n",
       "    </thead>\n",
       "    <tbody>\n",
       "        <tr>\n",
       "            <td>1</td>\n",
       "        </tr>\n",
       "    </tbody>\n",
       "</table>"
      ]
     },
     "execution_count": 50,
     "metadata": {},
     "output_type": "execute_result"
    }
   ],
   "execution_count": 50
  },
  {
   "metadata": {
    "ExecuteTime": {
     "end_time": "2024-11-24T10:27:16.732166Z",
     "start_time": "2024-11-24T10:27:16.695518Z"
    }
   },
   "cell_type": "code",
   "source": "%sql SELECT DISTINCT \"Booster_Version\" FROM SPACEXTABLE WHERE \"Payload_Mass\" = (SELECT MAX(\"Payload_Mass\") FROM SPACEXTABLE);",
   "id": "8e92900cab950f1a",
   "outputs": [
    {
     "name": "stdout",
     "output_type": "stream",
     "text": [
      " * sqlite:///my_data1.db\n",
      "Done.\n"
     ]
    },
    {
     "data": {
      "text/plain": [
       "[('F9 v1.0  B0003',),\n",
       " ('F9 v1.0  B0004',),\n",
       " ('F9 v1.0  B0005',),\n",
       " ('F9 v1.0  B0006',),\n",
       " ('F9 v1.0  B0007',),\n",
       " ('F9 v1.1  B1003',),\n",
       " ('F9 v1.1',),\n",
       " ('F9 v1.1 B1011',),\n",
       " ('F9 v1.1 B1010',),\n",
       " ('F9 v1.1 B1012',),\n",
       " ('F9 v1.1 B1013',),\n",
       " ('F9 v1.1 B1014',),\n",
       " ('F9 v1.1 B1015',),\n",
       " ('F9 v1.1 B1016',),\n",
       " ('F9 v1.1 B1018',),\n",
       " ('F9 FT B1019',),\n",
       " ('F9 v1.1 B1017',),\n",
       " ('F9 FT B1020',),\n",
       " ('F9 FT B1021.1',),\n",
       " ('F9 FT B1022',),\n",
       " ('F9 FT B1023.1',),\n",
       " ('F9 FT B1024',),\n",
       " ('F9 FT B1025.1',),\n",
       " ('F9 FT B1026',),\n",
       " ('F9 FT B1029.1',),\n",
       " ('F9 FT B1031.1',),\n",
       " ('F9 FT B1030',),\n",
       " ('F9 FT  B1021.2',),\n",
       " ('F9 FT B1032.1',),\n",
       " ('F9 FT B1034',),\n",
       " ('F9 FT B1035.1',),\n",
       " ('F9 FT  B1029.2',),\n",
       " ('F9 FT B1036.1',),\n",
       " ('F9 FT B1037',),\n",
       " ('F9 B4 B1039.1',),\n",
       " ('F9 FT B1038.1',),\n",
       " ('F9 B4 B1040.1',),\n",
       " ('F9 B4 B1041.1',),\n",
       " ('F9 FT  B1031.2',),\n",
       " ('F9 B4 B1042.1',),\n",
       " ('F9 FT  B1035.2',),\n",
       " ('F9 FT  B1036.2',),\n",
       " ('F9 B4 B1043.1',),\n",
       " ('F9 FT  B1032.2',),\n",
       " ('F9 FT  B1038.2',),\n",
       " ('F9 B4 B1044',),\n",
       " ('F9 B4  B1041.2',),\n",
       " ('F9 B4  B1039.2',),\n",
       " ('F9 B4 B1045.1',),\n",
       " ('F9 B5  B1046.1',),\n",
       " ('F9 B4  B1043.2',),\n",
       " ('F9 B4  B1040.2',),\n",
       " ('F9 B4 B1045.2',),\n",
       " ('F9 B5B1047.1',),\n",
       " ('F9 B5B1048.1',),\n",
       " ('F9 B5 B1046.2',),\n",
       " ('F9 B5B1049.1',),\n",
       " ('F9 B5 B1048.2',),\n",
       " ('F9 B5 B1047.2',),\n",
       " ('F9 B5 B1046.3',),\n",
       " ('F9 B5B1050',),\n",
       " ('F9 B5B1054',),\n",
       " ('F9 B5 B1049.2',),\n",
       " ('F9 B5 B1048.3',),\n",
       " ('F9 B5B1051.1',),\n",
       " ('F9 B5B1056.1 ',),\n",
       " ('F9 B5 B1049.3',),\n",
       " ('F9 B5 B1051.2 ',),\n",
       " ('F9 B5 B1056.2 ',),\n",
       " ('F9 B5 B1047.3 ',),\n",
       " ('F9 B5 B1048.4',),\n",
       " ('F9 B5B1059.1',),\n",
       " ('F9 B5 B1056.3 ',),\n",
       " ('F9 B5 B1049.4',),\n",
       " ('F9 B5 B1046.4',),\n",
       " ('F9 B5 B1051.3',),\n",
       " ('F9 B5 B1056.4',),\n",
       " ('F9 B5 B1059.2',),\n",
       " ('F9 B5 B1048.5',),\n",
       " ('F9 B5 B1051.4',),\n",
       " ('F9 B5B1058.1 ',),\n",
       " ('F9 B5 B1049.5',),\n",
       " ('F9 B5 B1059.3',),\n",
       " ('F9 B5B1060.1',),\n",
       " ('F9 B5 B1058.2 ',),\n",
       " ('F9 B5 B1051.5',),\n",
       " ('F9 B5 B1049.6',),\n",
       " ('F9 B5 B1059.4',),\n",
       " ('F9 B5 B1060.2 ',),\n",
       " ('F9 B5 B1058.3 ',),\n",
       " ('F9 B5 B1051.6',),\n",
       " ('F9 B5 B1060.3',),\n",
       " ('F9 B5B1062.1',),\n",
       " ('F9 B5B1061.1 ',),\n",
       " ('F9 B5B1063.1',),\n",
       " ('F9 B5 B1049.7 ',),\n",
       " ('F9 B5 B1058.4 ',)]"
      ],
      "text/html": [
       "<table>\n",
       "    <thead>\n",
       "        <tr>\n",
       "            <th>Booster_Version</th>\n",
       "        </tr>\n",
       "    </thead>\n",
       "    <tbody>\n",
       "        <tr>\n",
       "            <td>F9 v1.0  B0003</td>\n",
       "        </tr>\n",
       "        <tr>\n",
       "            <td>F9 v1.0  B0004</td>\n",
       "        </tr>\n",
       "        <tr>\n",
       "            <td>F9 v1.0  B0005</td>\n",
       "        </tr>\n",
       "        <tr>\n",
       "            <td>F9 v1.0  B0006</td>\n",
       "        </tr>\n",
       "        <tr>\n",
       "            <td>F9 v1.0  B0007</td>\n",
       "        </tr>\n",
       "        <tr>\n",
       "            <td>F9 v1.1  B1003</td>\n",
       "        </tr>\n",
       "        <tr>\n",
       "            <td>F9 v1.1</td>\n",
       "        </tr>\n",
       "        <tr>\n",
       "            <td>F9 v1.1 B1011</td>\n",
       "        </tr>\n",
       "        <tr>\n",
       "            <td>F9 v1.1 B1010</td>\n",
       "        </tr>\n",
       "        <tr>\n",
       "            <td>F9 v1.1 B1012</td>\n",
       "        </tr>\n",
       "        <tr>\n",
       "            <td>F9 v1.1 B1013</td>\n",
       "        </tr>\n",
       "        <tr>\n",
       "            <td>F9 v1.1 B1014</td>\n",
       "        </tr>\n",
       "        <tr>\n",
       "            <td>F9 v1.1 B1015</td>\n",
       "        </tr>\n",
       "        <tr>\n",
       "            <td>F9 v1.1 B1016</td>\n",
       "        </tr>\n",
       "        <tr>\n",
       "            <td>F9 v1.1 B1018</td>\n",
       "        </tr>\n",
       "        <tr>\n",
       "            <td>F9 FT B1019</td>\n",
       "        </tr>\n",
       "        <tr>\n",
       "            <td>F9 v1.1 B1017</td>\n",
       "        </tr>\n",
       "        <tr>\n",
       "            <td>F9 FT B1020</td>\n",
       "        </tr>\n",
       "        <tr>\n",
       "            <td>F9 FT B1021.1</td>\n",
       "        </tr>\n",
       "        <tr>\n",
       "            <td>F9 FT B1022</td>\n",
       "        </tr>\n",
       "        <tr>\n",
       "            <td>F9 FT B1023.1</td>\n",
       "        </tr>\n",
       "        <tr>\n",
       "            <td>F9 FT B1024</td>\n",
       "        </tr>\n",
       "        <tr>\n",
       "            <td>F9 FT B1025.1</td>\n",
       "        </tr>\n",
       "        <tr>\n",
       "            <td>F9 FT B1026</td>\n",
       "        </tr>\n",
       "        <tr>\n",
       "            <td>F9 FT B1029.1</td>\n",
       "        </tr>\n",
       "        <tr>\n",
       "            <td>F9 FT B1031.1</td>\n",
       "        </tr>\n",
       "        <tr>\n",
       "            <td>F9 FT B1030</td>\n",
       "        </tr>\n",
       "        <tr>\n",
       "            <td>F9 FT  B1021.2</td>\n",
       "        </tr>\n",
       "        <tr>\n",
       "            <td>F9 FT B1032.1</td>\n",
       "        </tr>\n",
       "        <tr>\n",
       "            <td>F9 FT B1034</td>\n",
       "        </tr>\n",
       "        <tr>\n",
       "            <td>F9 FT B1035.1</td>\n",
       "        </tr>\n",
       "        <tr>\n",
       "            <td>F9 FT  B1029.2</td>\n",
       "        </tr>\n",
       "        <tr>\n",
       "            <td>F9 FT B1036.1</td>\n",
       "        </tr>\n",
       "        <tr>\n",
       "            <td>F9 FT B1037</td>\n",
       "        </tr>\n",
       "        <tr>\n",
       "            <td>F9 B4 B1039.1</td>\n",
       "        </tr>\n",
       "        <tr>\n",
       "            <td>F9 FT B1038.1</td>\n",
       "        </tr>\n",
       "        <tr>\n",
       "            <td>F9 B4 B1040.1</td>\n",
       "        </tr>\n",
       "        <tr>\n",
       "            <td>F9 B4 B1041.1</td>\n",
       "        </tr>\n",
       "        <tr>\n",
       "            <td>F9 FT  B1031.2</td>\n",
       "        </tr>\n",
       "        <tr>\n",
       "            <td>F9 B4 B1042.1</td>\n",
       "        </tr>\n",
       "        <tr>\n",
       "            <td>F9 FT  B1035.2</td>\n",
       "        </tr>\n",
       "        <tr>\n",
       "            <td>F9 FT  B1036.2</td>\n",
       "        </tr>\n",
       "        <tr>\n",
       "            <td>F9 B4 B1043.1</td>\n",
       "        </tr>\n",
       "        <tr>\n",
       "            <td>F9 FT  B1032.2</td>\n",
       "        </tr>\n",
       "        <tr>\n",
       "            <td>F9 FT  B1038.2</td>\n",
       "        </tr>\n",
       "        <tr>\n",
       "            <td>F9 B4 B1044</td>\n",
       "        </tr>\n",
       "        <tr>\n",
       "            <td>F9 B4  B1041.2</td>\n",
       "        </tr>\n",
       "        <tr>\n",
       "            <td>F9 B4  B1039.2</td>\n",
       "        </tr>\n",
       "        <tr>\n",
       "            <td>F9 B4 B1045.1</td>\n",
       "        </tr>\n",
       "        <tr>\n",
       "            <td>F9 B5  B1046.1</td>\n",
       "        </tr>\n",
       "        <tr>\n",
       "            <td>F9 B4  B1043.2</td>\n",
       "        </tr>\n",
       "        <tr>\n",
       "            <td>F9 B4  B1040.2</td>\n",
       "        </tr>\n",
       "        <tr>\n",
       "            <td>F9 B4 B1045.2</td>\n",
       "        </tr>\n",
       "        <tr>\n",
       "            <td>F9 B5B1047.1</td>\n",
       "        </tr>\n",
       "        <tr>\n",
       "            <td>F9 B5B1048.1</td>\n",
       "        </tr>\n",
       "        <tr>\n",
       "            <td>F9 B5 B1046.2</td>\n",
       "        </tr>\n",
       "        <tr>\n",
       "            <td>F9 B5B1049.1</td>\n",
       "        </tr>\n",
       "        <tr>\n",
       "            <td>F9 B5 B1048.2</td>\n",
       "        </tr>\n",
       "        <tr>\n",
       "            <td>F9 B5 B1047.2</td>\n",
       "        </tr>\n",
       "        <tr>\n",
       "            <td>F9 B5 B1046.3</td>\n",
       "        </tr>\n",
       "        <tr>\n",
       "            <td>F9 B5B1050</td>\n",
       "        </tr>\n",
       "        <tr>\n",
       "            <td>F9 B5B1054</td>\n",
       "        </tr>\n",
       "        <tr>\n",
       "            <td>F9 B5 B1049.2</td>\n",
       "        </tr>\n",
       "        <tr>\n",
       "            <td>F9 B5 B1048.3</td>\n",
       "        </tr>\n",
       "        <tr>\n",
       "            <td>F9 B5B1051.1</td>\n",
       "        </tr>\n",
       "        <tr>\n",
       "            <td>F9 B5B1056.1 </td>\n",
       "        </tr>\n",
       "        <tr>\n",
       "            <td>F9 B5 B1049.3</td>\n",
       "        </tr>\n",
       "        <tr>\n",
       "            <td>F9 B5 B1051.2 </td>\n",
       "        </tr>\n",
       "        <tr>\n",
       "            <td>F9 B5 B1056.2 </td>\n",
       "        </tr>\n",
       "        <tr>\n",
       "            <td>F9 B5 B1047.3 </td>\n",
       "        </tr>\n",
       "        <tr>\n",
       "            <td>F9 B5 B1048.4</td>\n",
       "        </tr>\n",
       "        <tr>\n",
       "            <td>F9 B5B1059.1</td>\n",
       "        </tr>\n",
       "        <tr>\n",
       "            <td>F9 B5 B1056.3 </td>\n",
       "        </tr>\n",
       "        <tr>\n",
       "            <td>F9 B5 B1049.4</td>\n",
       "        </tr>\n",
       "        <tr>\n",
       "            <td>F9 B5 B1046.4</td>\n",
       "        </tr>\n",
       "        <tr>\n",
       "            <td>F9 B5 B1051.3</td>\n",
       "        </tr>\n",
       "        <tr>\n",
       "            <td>F9 B5 B1056.4</td>\n",
       "        </tr>\n",
       "        <tr>\n",
       "            <td>F9 B5 B1059.2</td>\n",
       "        </tr>\n",
       "        <tr>\n",
       "            <td>F9 B5 B1048.5</td>\n",
       "        </tr>\n",
       "        <tr>\n",
       "            <td>F9 B5 B1051.4</td>\n",
       "        </tr>\n",
       "        <tr>\n",
       "            <td>F9 B5B1058.1 </td>\n",
       "        </tr>\n",
       "        <tr>\n",
       "            <td>F9 B5 B1049.5</td>\n",
       "        </tr>\n",
       "        <tr>\n",
       "            <td>F9 B5 B1059.3</td>\n",
       "        </tr>\n",
       "        <tr>\n",
       "            <td>F9 B5B1060.1</td>\n",
       "        </tr>\n",
       "        <tr>\n",
       "            <td>F9 B5 B1058.2 </td>\n",
       "        </tr>\n",
       "        <tr>\n",
       "            <td>F9 B5 B1051.5</td>\n",
       "        </tr>\n",
       "        <tr>\n",
       "            <td>F9 B5 B1049.6</td>\n",
       "        </tr>\n",
       "        <tr>\n",
       "            <td>F9 B5 B1059.4</td>\n",
       "        </tr>\n",
       "        <tr>\n",
       "            <td>F9 B5 B1060.2 </td>\n",
       "        </tr>\n",
       "        <tr>\n",
       "            <td>F9 B5 B1058.3 </td>\n",
       "        </tr>\n",
       "        <tr>\n",
       "            <td>F9 B5 B1051.6</td>\n",
       "        </tr>\n",
       "        <tr>\n",
       "            <td>F9 B5 B1060.3</td>\n",
       "        </tr>\n",
       "        <tr>\n",
       "            <td>F9 B5B1062.1</td>\n",
       "        </tr>\n",
       "        <tr>\n",
       "            <td>F9 B5B1061.1 </td>\n",
       "        </tr>\n",
       "        <tr>\n",
       "            <td>F9 B5B1063.1</td>\n",
       "        </tr>\n",
       "        <tr>\n",
       "            <td>F9 B5 B1049.7 </td>\n",
       "        </tr>\n",
       "        <tr>\n",
       "            <td>F9 B5 B1058.4 </td>\n",
       "        </tr>\n",
       "    </tbody>\n",
       "</table>"
      ]
     },
     "execution_count": 54,
     "metadata": {},
     "output_type": "execute_result"
    }
   ],
   "execution_count": 54
  },
  {
   "metadata": {
    "ExecuteTime": {
     "end_time": "2024-11-24T10:36:34.355109Z",
     "start_time": "2024-11-24T10:36:34.342287Z"
    }
   },
   "cell_type": "code",
   "source": "%sql SELECT substr(Date, 6,2) as month, Landing_Outcome, Booster_Version, Launch_Site FROM SPACEXTABLE WHERE Landing_Outcome LIKE \"Failure (drone ship)\" AND substr(Date,0,5)='2015';",
   "id": "5af565412a3c6253",
   "outputs": [
    {
     "name": "stdout",
     "output_type": "stream",
     "text": [
      " * sqlite:///my_data1.db\n",
      "Done.\n"
     ]
    },
    {
     "data": {
      "text/plain": [
       "[('01', 'Failure (drone ship)', 'F9 v1.1 B1012', 'CCAFS LC-40'),\n",
       " ('04', 'Failure (drone ship)', 'F9 v1.1 B1015', 'CCAFS LC-40')]"
      ],
      "text/html": [
       "<table>\n",
       "    <thead>\n",
       "        <tr>\n",
       "            <th>month</th>\n",
       "            <th>Landing_Outcome</th>\n",
       "            <th>Booster_Version</th>\n",
       "            <th>Launch_Site</th>\n",
       "        </tr>\n",
       "    </thead>\n",
       "    <tbody>\n",
       "        <tr>\n",
       "            <td>01</td>\n",
       "            <td>Failure (drone ship)</td>\n",
       "            <td>F9 v1.1 B1012</td>\n",
       "            <td>CCAFS LC-40</td>\n",
       "        </tr>\n",
       "        <tr>\n",
       "            <td>04</td>\n",
       "            <td>Failure (drone ship)</td>\n",
       "            <td>F9 v1.1 B1015</td>\n",
       "            <td>CCAFS LC-40</td>\n",
       "        </tr>\n",
       "    </tbody>\n",
       "</table>"
      ]
     },
     "execution_count": 60,
     "metadata": {},
     "output_type": "execute_result"
    }
   ],
   "execution_count": 60
  },
  {
   "metadata": {
    "ExecuteTime": {
     "end_time": "2024-11-24T10:48:09.847561Z",
     "start_time": "2024-11-24T10:48:09.816559Z"
    }
   },
   "cell_type": "code",
   "source": "%sql SELECT \"Landing_Outcome\", COUNT(\"Landing_Outcome\") FROM SPACEXTABLE GROUP BY \"Landing_Outcome\" HAVING \"DATE\" > \"2010-06-04\" AND \"DATE\" < \"2017-03-20\" ORDER BY \"Date\" DESC;",
   "id": "3d510e05758436d2",
   "outputs": [
    {
     "name": "stdout",
     "output_type": "stream",
     "text": [
      " * sqlite:///my_data1.db\n",
      "Done.\n"
     ]
    },
    {
     "data": {
      "text/plain": [
       "[('Success (drone ship)', 14),\n",
       " ('Success (ground pad)', 9),\n",
       " ('Precluded (drone ship)', 1),\n",
       " ('Failure (drone ship)', 5),\n",
       " ('Controlled (ocean)', 5),\n",
       " ('Uncontrolled (ocean)', 2),\n",
       " ('No attempt', 21)]"
      ],
      "text/html": [
       "<table>\n",
       "    <thead>\n",
       "        <tr>\n",
       "            <th>Landing_Outcome</th>\n",
       "            <th>COUNT(&quot;Landing_Outcome&quot;)</th>\n",
       "        </tr>\n",
       "    </thead>\n",
       "    <tbody>\n",
       "        <tr>\n",
       "            <td>Success (drone ship)</td>\n",
       "            <td>14</td>\n",
       "        </tr>\n",
       "        <tr>\n",
       "            <td>Success (ground pad)</td>\n",
       "            <td>9</td>\n",
       "        </tr>\n",
       "        <tr>\n",
       "            <td>Precluded (drone ship)</td>\n",
       "            <td>1</td>\n",
       "        </tr>\n",
       "        <tr>\n",
       "            <td>Failure (drone ship)</td>\n",
       "            <td>5</td>\n",
       "        </tr>\n",
       "        <tr>\n",
       "            <td>Controlled (ocean)</td>\n",
       "            <td>5</td>\n",
       "        </tr>\n",
       "        <tr>\n",
       "            <td>Uncontrolled (ocean)</td>\n",
       "            <td>2</td>\n",
       "        </tr>\n",
       "        <tr>\n",
       "            <td>No attempt</td>\n",
       "            <td>21</td>\n",
       "        </tr>\n",
       "    </tbody>\n",
       "</table>"
      ]
     },
     "execution_count": 77,
     "metadata": {},
     "output_type": "execute_result"
    }
   ],
   "execution_count": 77
  },
  {
   "metadata": {},
   "cell_type": "code",
   "outputs": [],
   "execution_count": null,
   "source": "",
   "id": "4f97a1f6620baec4"
  }
 ],
 "metadata": {
  "kernelspec": {
   "display_name": "Python 3",
   "language": "python",
   "name": "python3"
  },
  "language_info": {
   "codemirror_mode": {
    "name": "ipython",
    "version": 2
   },
   "file_extension": ".py",
   "mimetype": "text/x-python",
   "name": "python",
   "nbconvert_exporter": "python",
   "pygments_lexer": "ipython2",
   "version": "2.7.6"
  }
 },
 "nbformat": 4,
 "nbformat_minor": 5
}
